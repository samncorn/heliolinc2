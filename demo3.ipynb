{
 "cells": [
  {
   "cell_type": "code",
   "execution_count": 1,
   "metadata": {},
   "outputs": [],
   "source": [
    "import numpy as np\n",
    "import pandas as pd\n",
    "import scipy.spatial as sc\n",
    "import sqlite3 as sql\n",
    "import plotly.express as px\n",
    "\n",
    "import heliolinc3d as hl\n",
    "import heliolinc3d.heliolinc3d_v3 as hl2\n",
    "\n",
    "import logging\n",
    "import os\n",
    "\n",
    "from numba import njit\n",
    "from sklearn.cluster import DBSCAN\n",
    "from time import time\n",
    "\n",
    "from heliolinc3d.transforms import radec2icrfu, frameChange\n",
    "from heliolinc3d.vector import sphere_line_intercept\n",
    "from heliolinc3d import constants as cn\n",
    "\n",
    "from numpy import float32"
   ]
  },
  {
   "cell_type": "code",
   "execution_count": 2,
   "metadata": {},
   "outputs": [],
   "source": [
    "logger = logging.getLogger()\n",
    "logger.setLevel( logging.INFO )\n",
    "logging.debug(' initilizing logger...')"
   ]
  },
  {
   "cell_type": "markdown",
   "metadata": {},
   "source": [
    "## HLCpy? HLinCpy? LinCpy? (generalize to any frame?)\n",
    "\n",
    "### HelioLinC python demo\n",
    "\n",
    "For this demo we look at only observations corresponding to actual (simulated) objects, and do not include false positives from source processing and sensor noise (which is ~10x the number of points and causes memory issues).\n",
    "\n",
    "This demo instead looks at what clustering parameter is needed to recover good clusters with dbscan"
   ]
  },
  {
   "cell_type": "markdown",
   "metadata": {},
   "source": [
    "### Load Detections\n",
    "\n",
    "we load a 2-week window of observations "
   ]
  },
  {
   "cell_type": "code",
   "execution_count": 3,
   "metadata": {},
   "outputs": [
    {
     "data": {
      "text/html": [
       "<div>\n",
       "<style scoped>\n",
       "    .dataframe tbody tr th:only-of-type {\n",
       "        vertical-align: middle;\n",
       "    }\n",
       "\n",
       "    .dataframe tbody tr th {\n",
       "        vertical-align: top;\n",
       "    }\n",
       "\n",
       "    .dataframe thead th {\n",
       "        text-align: right;\n",
       "    }\n",
       "</style>\n",
       "<table border=\"1\" class=\"dataframe\">\n",
       "  <thead>\n",
       "    <tr style=\"text-align: right;\">\n",
       "      <th></th>\n",
       "      <th>ObjID</th>\n",
       "      <th>FieldID</th>\n",
       "      <th>FieldMJD</th>\n",
       "      <th>AstRA(deg)</th>\n",
       "      <th>AstDec(deg)</th>\n",
       "      <th>observedTrailedSourceMag</th>\n",
       "      <th>optFilter</th>\n",
       "    </tr>\n",
       "  </thead>\n",
       "  <tbody>\n",
       "    <tr>\n",
       "      <th>0</th>\n",
       "      <td>G003061</td>\n",
       "      <td>24</td>\n",
       "      <td>60796.01243</td>\n",
       "      <td>210.812507</td>\n",
       "      <td>-73.626046</td>\n",
       "      <td>22.920</td>\n",
       "      <td>r</td>\n",
       "    </tr>\n",
       "    <tr>\n",
       "      <th>1</th>\n",
       "      <td>G003061</td>\n",
       "      <td>74</td>\n",
       "      <td>60796.03689</td>\n",
       "      <td>210.781540</td>\n",
       "      <td>-73.625285</td>\n",
       "      <td>23.479</td>\n",
       "      <td>g</td>\n",
       "    </tr>\n",
       "    <tr>\n",
       "      <th>2</th>\n",
       "      <td>G004759</td>\n",
       "      <td>201</td>\n",
       "      <td>60796.09643</td>\n",
       "      <td>169.145905</td>\n",
       "      <td>-7.835319</td>\n",
       "      <td>22.064</td>\n",
       "      <td>u</td>\n",
       "    </tr>\n",
       "    <tr>\n",
       "      <th>3</th>\n",
       "      <td>G004759</td>\n",
       "      <td>251</td>\n",
       "      <td>60796.11954</td>\n",
       "      <td>169.149066</td>\n",
       "      <td>-7.826511</td>\n",
       "      <td>20.579</td>\n",
       "      <td>g</td>\n",
       "    </tr>\n",
       "    <tr>\n",
       "      <th>4</th>\n",
       "      <td>G002012</td>\n",
       "      <td>252</td>\n",
       "      <td>60796.11999</td>\n",
       "      <td>168.356483</td>\n",
       "      <td>-10.641907</td>\n",
       "      <td>24.105</td>\n",
       "      <td>g</td>\n",
       "    </tr>\n",
       "    <tr>\n",
       "      <th>...</th>\n",
       "      <td>...</td>\n",
       "      <td>...</td>\n",
       "      <td>...</td>\n",
       "      <td>...</td>\n",
       "      <td>...</td>\n",
       "      <td>...</td>\n",
       "      <td>...</td>\n",
       "    </tr>\n",
       "    <tr>\n",
       "      <th>6202912</th>\n",
       "      <td>S101MR5wa</td>\n",
       "      <td>13251</td>\n",
       "      <td>60809.15669</td>\n",
       "      <td>230.762016</td>\n",
       "      <td>10.495020</td>\n",
       "      <td>22.982</td>\n",
       "      <td>r</td>\n",
       "    </tr>\n",
       "    <tr>\n",
       "      <th>6202913</th>\n",
       "      <td>S101N7kka</td>\n",
       "      <td>13227</td>\n",
       "      <td>60809.14595</td>\n",
       "      <td>193.019583</td>\n",
       "      <td>9.064945</td>\n",
       "      <td>23.724</td>\n",
       "      <td>r</td>\n",
       "    </tr>\n",
       "    <tr>\n",
       "      <th>6202914</th>\n",
       "      <td>S101NDxUa</td>\n",
       "      <td>13121</td>\n",
       "      <td>60809.09520</td>\n",
       "      <td>187.341383</td>\n",
       "      <td>7.238919</td>\n",
       "      <td>23.842</td>\n",
       "      <td>r</td>\n",
       "    </tr>\n",
       "    <tr>\n",
       "      <th>6202915</th>\n",
       "      <td>S101Nt2Sa</td>\n",
       "      <td>13132</td>\n",
       "      <td>60809.10013</td>\n",
       "      <td>180.363544</td>\n",
       "      <td>-5.266361</td>\n",
       "      <td>24.226</td>\n",
       "      <td>r</td>\n",
       "    </tr>\n",
       "    <tr>\n",
       "      <th>6202916</th>\n",
       "      <td>S101Nyoia</td>\n",
       "      <td>13284</td>\n",
       "      <td>60809.17283</td>\n",
       "      <td>202.157157</td>\n",
       "      <td>-10.122016</td>\n",
       "      <td>22.274</td>\n",
       "      <td>y</td>\n",
       "    </tr>\n",
       "  </tbody>\n",
       "</table>\n",
       "<p>6202917 rows × 7 columns</p>\n",
       "</div>"
      ],
      "text/plain": [
       "             ObjID  FieldID     FieldMJD  AstRA(deg)  AstDec(deg)  \\\n",
       "0          G003061       24  60796.01243  210.812507   -73.626046   \n",
       "1          G003061       74  60796.03689  210.781540   -73.625285   \n",
       "2          G004759      201  60796.09643  169.145905    -7.835319   \n",
       "3          G004759      251  60796.11954  169.149066    -7.826511   \n",
       "4          G002012      252  60796.11999  168.356483   -10.641907   \n",
       "...            ...      ...          ...         ...          ...   \n",
       "6202912  S101MR5wa    13251  60809.15669  230.762016    10.495020   \n",
       "6202913  S101N7kka    13227  60809.14595  193.019583     9.064945   \n",
       "6202914  S101NDxUa    13121  60809.09520  187.341383     7.238919   \n",
       "6202915  S101Nt2Sa    13132  60809.10013  180.363544    -5.266361   \n",
       "6202916  S101Nyoia    13284  60809.17283  202.157157   -10.122016   \n",
       "\n",
       "         observedTrailedSourceMag optFilter  \n",
       "0                          22.920         r  \n",
       "1                          23.479         g  \n",
       "2                          22.064         u  \n",
       "3                          20.579         g  \n",
       "4                          24.105         g  \n",
       "...                           ...       ...  \n",
       "6202912                    22.982         r  \n",
       "6202913                    23.724         r  \n",
       "6202914                    23.842         r  \n",
       "6202915                    24.226         r  \n",
       "6202916                    22.274         y  \n",
       "\n",
       "[6202917 rows x 7 columns]"
      ]
     },
     "execution_count": 3,
     "metadata": {},
     "output_type": "execute_result"
    }
   ],
   "source": [
    "# load dataset\n",
    "dfObs = pd.read_parquet( '../neo_mba_noise_v3.3_1month.parquet', filters=[('ObjID', '!=', 'FD'), ('FieldMJD_TAI', '<=', 60810.0)])\n",
    "# dfObs = pd.read_parquet( '../neo_mba_noise_v3.3_1month.parquet', filters=[('FieldMJD_TAI', '<=', 60810.0)])\n",
    "dfObs.rename( \n",
    "    columns = {\n",
    "        'FieldMJD_TAI' : 'FieldMJD',\n",
    "        'index' : 'obsName' \n",
    "    }, \n",
    "    inplace=True )\n",
    "dfObs"
   ]
  },
  {
   "cell_type": "code",
   "execution_count": 4,
   "metadata": {},
   "outputs": [
    {
     "data": {
      "text/plain": [
       "(60796.00164, 60810.00164)"
      ]
     },
     "execution_count": 4,
     "metadata": {},
     "output_type": "execute_result"
    }
   ],
   "source": [
    "\n",
    "mjd_start = dfObs[ 'FieldMJD'].min()\n",
    "mjd_stop = mjd_start + 14.0\n",
    "mjd_start, mjd_stop\n",
    "\n",
    "# obs_batch.drop( obs_batch['FieldMJD'] > mjd_stop, inplace=True )\n",
    "# # dfObs = dfObs[ dfObs['FieldMJD_TAI'] <= mjd_stop ]\n",
    "# mjd_ref = 0.5*(mjd_start + mjd_stop)"
   ]
  },
  {
   "cell_type": "code",
   "execution_count": 5,
   "metadata": {},
   "outputs": [],
   "source": [
    "# image_db = sql.connect( '../opsims/baseline_v3.3_10yrs.db' )\n",
    "# image_table = pd.read_sql_query( 'SELECT * FROM observations', image_db )\n",
    "# image_table\n",
    "\n",
    "# obs_pos, obs_vel = hl.getObserverStates(\n",
    "#     image_table['observationStartMJD'],\n",
    "#     origin='Sun',\n",
    "#     observer_location='X05',\n",
    "#     ephemeris_dt='1h',\n",
    "#     frame='ecliptic'\n",
    "#     )\n",
    "\n",
    "# obs_states = pd.DataFrame( {\n",
    "#     'image_id' : image_table['observationId'],\n",
    "#     'epoch_mjd' : image_table['observationStartMJD'],\n",
    "#     'x_obs' : obs_pos[:,0],\n",
    "#     'y_obs' : obs_pos[:,1],\n",
    "#     'z_obs' : obs_pos[:,2],\n",
    "#     'vx_obs' : obs_vel[:,0],\n",
    "#     'vy_obs' : obs_vel[:,1],\n",
    "#     'vz_obs' : obs_vel[:,2],\n",
    "# } )\n",
    "# obs_states.to_csv( 'demo/X05_states_v3.3_10yrs.db', index=False )"
   ]
  },
  {
   "cell_type": "code",
   "execution_count": 6,
   "metadata": {},
   "outputs": [
    {
     "data": {
      "text/html": [
       "<div>\n",
       "<style scoped>\n",
       "    .dataframe tbody tr th:only-of-type {\n",
       "        vertical-align: middle;\n",
       "    }\n",
       "\n",
       "    .dataframe tbody tr th {\n",
       "        vertical-align: top;\n",
       "    }\n",
       "\n",
       "    .dataframe thead th {\n",
       "        text-align: right;\n",
       "    }\n",
       "</style>\n",
       "<table border=\"1\" class=\"dataframe\">\n",
       "  <thead>\n",
       "    <tr style=\"text-align: right;\">\n",
       "      <th></th>\n",
       "      <th>image_id</th>\n",
       "      <th>epoch_mjd</th>\n",
       "      <th>x_obs</th>\n",
       "      <th>y_obs</th>\n",
       "      <th>z_obs</th>\n",
       "      <th>vx_obs</th>\n",
       "      <th>vy_obs</th>\n",
       "      <th>vz_obs</th>\n",
       "    </tr>\n",
       "  </thead>\n",
       "  <tbody>\n",
       "    <tr>\n",
       "      <th>0</th>\n",
       "      <td>0</td>\n",
       "      <td>60796.001439</td>\n",
       "      <td>-0.765787</td>\n",
       "      <td>-0.654735</td>\n",
       "      <td>0.000013</td>\n",
       "      <td>0.010787</td>\n",
       "      <td>-0.013323</td>\n",
       "      <td>0.000080</td>\n",
       "    </tr>\n",
       "    <tr>\n",
       "      <th>1</th>\n",
       "      <td>1</td>\n",
       "      <td>60796.001888</td>\n",
       "      <td>-0.765782</td>\n",
       "      <td>-0.654741</td>\n",
       "      <td>0.000013</td>\n",
       "      <td>0.010787</td>\n",
       "      <td>-0.013323</td>\n",
       "      <td>0.000080</td>\n",
       "    </tr>\n",
       "    <tr>\n",
       "      <th>2</th>\n",
       "      <td>2</td>\n",
       "      <td>60796.002335</td>\n",
       "      <td>-0.765777</td>\n",
       "      <td>-0.654747</td>\n",
       "      <td>0.000013</td>\n",
       "      <td>0.010788</td>\n",
       "      <td>-0.013324</td>\n",
       "      <td>0.000080</td>\n",
       "    </tr>\n",
       "    <tr>\n",
       "      <th>3</th>\n",
       "      <td>3</td>\n",
       "      <td>60796.002782</td>\n",
       "      <td>-0.765772</td>\n",
       "      <td>-0.654753</td>\n",
       "      <td>0.000013</td>\n",
       "      <td>0.010789</td>\n",
       "      <td>-0.013324</td>\n",
       "      <td>0.000080</td>\n",
       "    </tr>\n",
       "    <tr>\n",
       "      <th>4</th>\n",
       "      <td>4</td>\n",
       "      <td>60796.003233</td>\n",
       "      <td>-0.765768</td>\n",
       "      <td>-0.654759</td>\n",
       "      <td>0.000013</td>\n",
       "      <td>0.010789</td>\n",
       "      <td>-0.013324</td>\n",
       "      <td>0.000080</td>\n",
       "    </tr>\n",
       "    <tr>\n",
       "      <th>...</th>\n",
       "      <td>...</td>\n",
       "      <td>...</td>\n",
       "      <td>...</td>\n",
       "      <td>...</td>\n",
       "      <td>...</td>\n",
       "      <td>...</td>\n",
       "      <td>...</td>\n",
       "      <td>...</td>\n",
       "    </tr>\n",
       "    <tr>\n",
       "      <th>2130903</th>\n",
       "      <td>2130903</td>\n",
       "      <td>64448.427310</td>\n",
       "      <td>-0.767134</td>\n",
       "      <td>-0.653015</td>\n",
       "      <td>0.000051</td>\n",
       "      <td>0.011066</td>\n",
       "      <td>-0.013061</td>\n",
       "      <td>-0.000047</td>\n",
       "    </tr>\n",
       "    <tr>\n",
       "      <th>2130904</th>\n",
       "      <td>2130904</td>\n",
       "      <td>64448.427781</td>\n",
       "      <td>-0.767129</td>\n",
       "      <td>-0.653022</td>\n",
       "      <td>0.000051</td>\n",
       "      <td>0.011065</td>\n",
       "      <td>-0.013060</td>\n",
       "      <td>-0.000048</td>\n",
       "    </tr>\n",
       "    <tr>\n",
       "      <th>2130905</th>\n",
       "      <td>2130905</td>\n",
       "      <td>64448.428240</td>\n",
       "      <td>-0.767124</td>\n",
       "      <td>-0.653028</td>\n",
       "      <td>0.000051</td>\n",
       "      <td>0.011065</td>\n",
       "      <td>-0.013060</td>\n",
       "      <td>-0.000048</td>\n",
       "    </tr>\n",
       "    <tr>\n",
       "      <th>2130906</th>\n",
       "      <td>2130906</td>\n",
       "      <td>64448.428692</td>\n",
       "      <td>-0.767119</td>\n",
       "      <td>-0.653033</td>\n",
       "      <td>0.000051</td>\n",
       "      <td>0.011065</td>\n",
       "      <td>-0.013059</td>\n",
       "      <td>-0.000048</td>\n",
       "    </tr>\n",
       "    <tr>\n",
       "      <th>2130907</th>\n",
       "      <td>2130907</td>\n",
       "      <td>64448.429138</td>\n",
       "      <td>-0.767114</td>\n",
       "      <td>-0.653039</td>\n",
       "      <td>0.000051</td>\n",
       "      <td>0.011065</td>\n",
       "      <td>-0.013058</td>\n",
       "      <td>-0.000048</td>\n",
       "    </tr>\n",
       "  </tbody>\n",
       "</table>\n",
       "<p>2130908 rows × 8 columns</p>\n",
       "</div>"
      ],
      "text/plain": [
       "         image_id     epoch_mjd     x_obs     y_obs     z_obs    vx_obs  \\\n",
       "0               0  60796.001439 -0.765787 -0.654735  0.000013  0.010787   \n",
       "1               1  60796.001888 -0.765782 -0.654741  0.000013  0.010787   \n",
       "2               2  60796.002335 -0.765777 -0.654747  0.000013  0.010788   \n",
       "3               3  60796.002782 -0.765772 -0.654753  0.000013  0.010789   \n",
       "4               4  60796.003233 -0.765768 -0.654759  0.000013  0.010789   \n",
       "...           ...           ...       ...       ...       ...       ...   \n",
       "2130903   2130903  64448.427310 -0.767134 -0.653015  0.000051  0.011066   \n",
       "2130904   2130904  64448.427781 -0.767129 -0.653022  0.000051  0.011065   \n",
       "2130905   2130905  64448.428240 -0.767124 -0.653028  0.000051  0.011065   \n",
       "2130906   2130906  64448.428692 -0.767119 -0.653033  0.000051  0.011065   \n",
       "2130907   2130907  64448.429138 -0.767114 -0.653039  0.000051  0.011065   \n",
       "\n",
       "           vy_obs    vz_obs  \n",
       "0       -0.013323  0.000080  \n",
       "1       -0.013323  0.000080  \n",
       "2       -0.013324  0.000080  \n",
       "3       -0.013324  0.000080  \n",
       "4       -0.013324  0.000080  \n",
       "...           ...       ...  \n",
       "2130903 -0.013061 -0.000047  \n",
       "2130904 -0.013060 -0.000048  \n",
       "2130905 -0.013060 -0.000048  \n",
       "2130906 -0.013059 -0.000048  \n",
       "2130907 -0.013058 -0.000048  \n",
       "\n",
       "[2130908 rows x 8 columns]"
      ]
     },
     "execution_count": 6,
     "metadata": {},
     "output_type": "execute_result"
    }
   ],
   "source": [
    "obs_states = pd.read_csv( 'demo/X05_states_v3.3_10yrs.csv', )\n",
    "obs_states"
   ]
  },
  {
   "cell_type": "code",
   "execution_count": 7,
   "metadata": {},
   "outputs": [],
   "source": [
    "dfObs = pd.merge( dfObs, obs_states, how='left', left_on='FieldID', right_on='image_id',)"
   ]
  },
  {
   "cell_type": "code",
   "execution_count": 8,
   "metadata": {},
   "outputs": [
    {
     "data": {
      "text/plain": [
       "60803.00164"
      ]
     },
     "execution_count": 8,
     "metadata": {},
     "output_type": "execute_result"
    }
   ],
   "source": [
    "# set parameters\n",
    "r0 = 1.2\n",
    "r0dot = 0.001\n",
    "clust_rad = 0.000001\n",
    "max_ang_rate = 2*np.pi/180 # deg/day => rad/day \n",
    "dt_trk = 2/24 # days\n",
    "mjd_ref = 0.5*(mjd_stop + mjd_start) # we use the obs start from the image table\n",
    "mjd_ref"
   ]
  },
  {
   "cell_type": "code",
   "execution_count": 9,
   "metadata": {},
   "outputs": [],
   "source": [
    "# get line of sight vectors\n",
    "dfObs['x_los'], dfObs['y_los'], dfObs['z_los'] = radec2icrfu( \n",
    "    dfObs['AstRA(deg)'],\n",
    "    dfObs['AstDec(deg)']\n",
    " )"
   ]
  },
  {
   "cell_type": "code",
   "execution_count": 10,
   "metadata": {},
   "outputs": [],
   "source": [
    "# testing numbers of tracklets \n",
    "xyzt = np.zeros( (len(dfObs), 4) )\n",
    "xyzt[:, 0:3] = sphere_line_intercept( \n",
    "    dfObs[['x_los', 'y_los', 'z_los']].values.T,\n",
    "    dfObs[['x_obs', 'y_obs', 'z_obs']].values.T,\n",
    "    1.2\n",
    " ).T\n",
    "xyzt[:, 3] = dfObs['epoch_mjd'].values * 0.02"
   ]
  },
  {
   "cell_type": "code",
   "execution_count": 11,
   "metadata": {},
   "outputs": [],
   "source": [
    "trk_tree = sc.KDTree( xyzt, leafsize=16 )"
   ]
  },
  {
   "cell_type": "code",
   "execution_count": 12,
   "metadata": {},
   "outputs": [],
   "source": [
    "n_pairs = trk_tree.count_neighbors( trk_tree, r=0.02*2.0/24 )"
   ]
  },
  {
   "cell_type": "code",
   "execution_count": 13,
   "metadata": {},
   "outputs": [
    {
     "data": {
      "text/plain": [
       "(466659596.0, 75.23228119931316)"
      ]
     },
     "execution_count": 13,
     "metadata": {},
     "output_type": "execute_result"
    }
   ],
   "source": [
    "(n_pairs - len( dfObs )) / 2, (n_pairs - len( dfObs )) / 2 / len(dfObs)"
   ]
  },
  {
   "cell_type": "code",
   "execution_count": 14,
   "metadata": {},
   "outputs": [],
   "source": [
    "#  75 pairs per obs (   466659596 (4.67 e8) total ) at 1.2 au with 0.02 au / day velocity search, no false_positives\n",
    "# 200 pairs per obs ( 15408951551 (15.4 e9) total ) at 1.2 au with 0.02 au / day velocity search, with false_positives ( 10 min )"
   ]
  },
  {
   "cell_type": "code",
   "execution_count": 15,
   "metadata": {},
   "outputs": [
    {
     "name": "stderr",
     "output_type": "stream",
     "text": [
      "INFO:heliolinc3d.heliolinc3d_v3: building tracklet search tree ...\n",
      "INFO:heliolinc3d.heliolinc3d_v3: tracklet search tree construction time 2.3054280281066895 s\n",
      "INFO:heliolinc3d.heliolinc3d_v3: querying for neighbors with search radius 0.002908882086657216\n",
      "INFO:heliolinc3d.heliolinc3d_v3: query time 9.231968879699707 s\n",
      "INFO:heliolinc3d.heliolinc3d_v3: removing same time pairs\n"
     ]
    }
   ],
   "source": [
    "# x_arrows, v_arrows, dt_arrows, pairs = \n",
    "pairs = hl2.find_tracklets_on_sky(\n",
    "    dfObs[['x_los', 'y_los', 'z_los']].values.T,\n",
    "    dfObs[['x_obs', 'y_obs', 'z_obs']].values.T,\n",
    "    dfObs['epoch_mjd'].values\n",
    "    )"
   ]
  },
  {
   "cell_type": "code",
   "execution_count": 19,
   "metadata": {},
   "outputs": [
    {
     "data": {
      "text/plain": [
       "((128789672, 2), 0.27598205009374754)"
      ]
     },
     "execution_count": 19,
     "metadata": {},
     "output_type": "execute_result"
    }
   ],
   "source": [
    "pairs.shape, pairs.shape[0] / 466659596"
   ]
  },
  {
   "cell_type": "code",
   "execution_count": 23,
   "metadata": {},
   "outputs": [
    {
     "data": {
      "text/plain": [
       "(2.0606347520000003, 7.466553536)"
      ]
     },
     "execution_count": 23,
     "metadata": {},
     "output_type": "execute_result"
    }
   ],
   "source": [
    "128789672 * 2*8 * 1e-9, 466659596 * 2*8 * 1e-9"
   ]
  },
  {
   "cell_type": "code",
   "execution_count": null,
   "metadata": {},
   "outputs": [],
   "source": [
    "arrows = hl2.make_arrows_from_pairs( \n",
    "    pairs, \n",
    "    dfObs[['x_los', 'y_los', 'z_los']].values, \n",
    "    dfObs[['x_obs', 'y_obs', 'z_obs']].values, \n",
    "    dfObs['epoch_mjd'].values-mjd_ref, \n",
    "    r0, \n",
    "    r0dot, \n",
    "    n_iter=3, GM=cn.GM )"
   ]
  },
  {
   "cell_type": "code",
   "execution_count": null,
   "metadata": {},
   "outputs": [],
   "source": [
    "arrows"
   ]
  },
  {
   "cell_type": "code",
   "execution_count": null,
   "metadata": {},
   "outputs": [],
   "source": [
    "arrows.shape"
   ]
  },
  {
   "cell_type": "code",
   "execution_count": null,
   "metadata": {},
   "outputs": [],
   "source": [
    "arrows.shape[0] * 6 * 8 * 1e-9 # GB"
   ]
  },
  {
   "cell_type": "code",
   "execution_count": null,
   "metadata": {},
   "outputs": [],
   "source": [
    "velocity_mask = np.where( ~np.any( np.isnan(arrows), axis=1 ) )\n",
    "pairs = pairs[ velocity_mask ]\n",
    "arrows = arrows[ velocity_mask ]"
   ]
  },
  {
   "cell_type": "code",
   "execution_count": null,
   "metadata": {},
   "outputs": [],
   "source": [
    "arrows.shape, pairs.shape"
   ]
  },
  {
   "cell_type": "code",
   "execution_count": null,
   "metadata": {},
   "outputs": [],
   "source": [
    "arrows.shape[0] * 6 * 8 * 1e-9"
   ]
  },
  {
   "cell_type": "code",
   "execution_count": null,
   "metadata": {},
   "outputs": [],
   "source": [
    "x_arrows"
   ]
  },
  {
   "cell_type": "code",
   "execution_count": null,
   "metadata": {},
   "outputs": [],
   "source": [
    "L_arrows = np.cross( x_arrows, v_arrows, axis=0 )\n",
    "L_arrows.T"
   ]
  },
  {
   "cell_type": "code",
   "execution_count": null,
   "metadata": {},
   "outputs": [],
   "source": [
    "A_arrows = np.cross( v_arrows, L_arrows, axis=0 ) - cn.GM*x_arrows/np.linalg.norm(x_arrows, axis=0)\n",
    "A_arrows.T / cn.GM\n",
    "# e = np.linalg.norm( A_arrows / cn.GM, axis=0 ) "
   ]
  },
  {
   "cell_type": "code",
   "execution_count": null,
   "metadata": {},
   "outputs": [],
   "source": [
    "e = np.linalg.norm( A_arrows / cn.GM, axis=0 ) \n",
    "e.max(), e.min()"
   ]
  },
  {
   "cell_type": "code",
   "execution_count": null,
   "metadata": {},
   "outputs": [],
   "source": [
    "# scale A to L\n",
    "A_arrows /= np.linalg.norm( A_arrows, axis=0 )\n",
    "A_arrows *= np.linalg.norm( L_arrows, axis=0 )"
   ]
  },
  {
   "cell_type": "code",
   "execution_count": null,
   "metadata": {},
   "outputs": [],
   "source": [
    "points = np.vstack([L_arrows, A_arrows]).T\n",
    "clusters = DBSCAN( eps=0.00002, min_samples=3 ).fit( points )\n",
    "len( np.unique(clusters.labels_) )"
   ]
  },
  {
   "cell_type": "code",
   "execution_count": null,
   "metadata": {},
   "outputs": [],
   "source": [
    "tracklets = pd.DataFrame({\n",
    "    'observation_1'   : pairs[0],\n",
    "    'observation_1_id': dfObs.iloc[ pairs[0] ]['ObjID'].values,\n",
    "    'mjd_1'           : dfObs.iloc[ pairs[0] ]['FieldMJD'].values,\n",
    "    'img_1'           : dfObs.iloc[ pairs[0] ]['FieldID'].values,\n",
    "    'observation_2'   : pairs[1],\n",
    "    'observation_2_id': dfObs.iloc[ pairs[1] ]['ObjID'].values,\n",
    "    'mjd_2'           : dfObs.iloc[ pairs[1] ]['FieldMJD'].values,\n",
    "    'img_2'           : dfObs.iloc[ pairs[1] ]['FieldID'].values,\n",
    "    'l_x'             : L_arrows[0],\n",
    "    'l_y'             : L_arrows[1],\n",
    "    'l_z'             : L_arrows[2],\n",
    "    'e_x'             : A_arrows[0]/cn.GM,\n",
    "    'e_y'             : A_arrows[1]/cn.GM,\n",
    "    'e_z'             : A_arrows[2]/cn.GM,\n",
    "    'res2_l'           : 0.0,\n",
    "    'res2_e'           : 0.0,\n",
    "    'cluster'         : clusters.labels_,\n",
    "})"
   ]
  },
  {
   "cell_type": "code",
   "execution_count": null,
   "metadata": {},
   "outputs": [],
   "source": [
    "# dfObs[ dfObs['ObjID'] == 'S1002pjea' ]"
   ]
  },
  {
   "cell_type": "code",
   "execution_count": null,
   "metadata": {},
   "outputs": [],
   "source": [
    "# len(dfObs[ dfObs['ObjID'] == 'S1002pjea' ]['FieldID'].unique())"
   ]
  },
  {
   "cell_type": "code",
   "execution_count": null,
   "metadata": {},
   "outputs": [],
   "source": [
    "# tracklets[ tracklets['cluster']==11 ]"
   ]
  },
  {
   "cell_type": "code",
   "execution_count": null,
   "metadata": {},
   "outputs": [],
   "source": [
    "clusters_dedup = []\n",
    "for cluster_label, cluster in tracklets.groupby( 'cluster' ):\n",
    "    imgs1 = np.unique( cluster['img_1'] )\n",
    "    imgs2 = np.unique( cluster['img_2'] )\n",
    "    names = np.array([ np.unique(cluster['observation_1_id']), np.unique(cluster['observation_1_id']) ]).flatten()\n",
    "\n",
    "    for name in names:\n",
    "        if name[0] == 'G':\n",
    "            print( '\\n', cluster_label )\n",
    "            print( (cluster[['observation_1', 'img_1', 'observation_1_id',]] ))\n",
    "            print( (cluster[['observation_2', 'img_2', 'observation_2_id',]] ))\n",
    "            break\n",
    "\n",
    "\n",
    "    # if len( imgs1 ) == len(cluster) and len( imgs2 ) == len(cluster):\n",
    "    #     clusters_dedup.append( cluster )\n",
    "    #     print( '\\n', cluster_label )\n",
    "    #     print( (cluster[['observation_1', 'img_1', 'observation_1_id',]] ))\n",
    "    #     print( (cluster[['observation_2', 'img_2', 'observation_2_id',]] ))\n",
    "        # print( (cluster[['observation_1', 'img_1', 'observation_1_id',]] ))\n",
    "    # else: # split cluster on duplicate observations\n",
    "    #     print( '\\n', cluster_label )\n",
    "    #     print( (cluster[['observation_1', 'img_1', 'observation_1_id',]] ))\n",
    "    #     print( (cluster[['observation_2', 'img_2', 'observation_2_id',]] ))\n",
    "        # for _, trk in cluster.iterrows():\n",
    "\n",
    "# clusters = pd.concat( clusters_dedup )"
   ]
  },
  {
   "cell_type": "code",
   "execution_count": null,
   "metadata": {},
   "outputs": [],
   "source": [
    "# compute mean, residuals\n",
    "cluster_mean_states = []\n",
    "for cluster_label, cluster in tracklets.groupby( 'cluster' ):\n",
    "    # print( cluster['l_x'] \n",
    "    l_mean = np.mean( cluster[['l_x', 'l_y', 'l_z']], axis=0 )\n",
    "    e_mean = np.mean( cluster[['e_x', 'e_y', 'e_z']], axis=0 )\n",
    "\n",
    "    l_std = np.std( cluster[['l_x', 'l_y', 'l_z']], axis=0 )\n",
    "    e_std = np.std( cluster[['e_x', 'e_y', 'e_z']], axis=0 )\n",
    "    # l_std_norm = np.linalg.norm(l_std)\n",
    "\n",
    "    # res2_l = np.sum( ( cluster[['l_x', 'l_y', 'l_z']] - l_mean )**2, axis=0 )\n",
    "    # res2_e = np.sum( ( cluster[['e_x', 'e_y', 'e_z']] - e_mean )**2, axis=0 )\n",
    "    cluster_mean_states.append( np.hstack([cluster_label, l_mean, e_mean, l_std, e_std]) )\n",
    "    # cluster\n",
    "    # n = len( np.unique( cluster[['observation_1_id', 'observation_2_id']].values.flatten() ) )\n",
    "    # if l_std_norm < 3*clust_rad:\n",
    "    #     print( l_std, l_std_norm, n )\n",
    "cluster_mean_states = np.vstack( cluster_mean_states )\n",
    "cluster_mean_states = pd.DataFrame(cluster_mean_states, columns = [\n",
    "    'cluster', \n",
    "    'mean_l_x', 'mean_l_y', 'mean_l_z', \n",
    "    'mean_e_x', 'mean_e_y', 'mean_e_z',\n",
    "    'std_l_x', 'std_l_y', 'std_l_z', \n",
    "    'std_e_x', 'std_e_y', 'std_e_z',\n",
    "    ])"
   ]
  },
  {
   "cell_type": "code",
   "execution_count": null,
   "metadata": {},
   "outputs": [],
   "source": [
    "cluster_mean_states['std_l'] = np.sqrt( np.sum(cluster_mean_states[['std_l_x', 'std_l_y', 'std_l_z']].values**2, axis=1) )\n",
    "cluster_mean_states['std_e'] = np.sqrt( np.sum(cluster_mean_states[['std_e_x', 'std_e_y', 'std_e_z']].values**2, axis=1) )\n",
    "cluster_mean_states.iloc[1:]"
   ]
  },
  {
   "cell_type": "code",
   "execution_count": null,
   "metadata": {},
   "outputs": [],
   "source": [
    "# visualize standard deviations of the clusters ex ey\n",
    "px.density_heatmap( cluster_mean_states.iloc[1:], x='std_l', y='std_e', nbinsx=100, nbinsy=100 )\n",
    "# px.histogram( cluster_mean_states, x='std_l', y='std_e' )"
   ]
  },
  {
   "cell_type": "code",
   "execution_count": null,
   "metadata": {},
   "outputs": [],
   "source": [
    "tracklets"
   ]
  },
  {
   "cell_type": "code",
   "execution_count": null,
   "metadata": {},
   "outputs": [],
   "source": [
    "tracklets = pd.merge( tracklets, cluster_mean_states, on='cluster' )\n",
    "tracklets[['res_l_x', 'res_l_y', 'res_l_z', 'res_e_x', 'res_e_y', 'res_e_z']] = tracklets[['l_x', 'l_y', 'l_z', 'e_x', 'e_y', 'e_z']].values - tracklets[['mean_l_x', 'mean_l_y', 'mean_l_z', 'mean_e_x', 'mean_e_y', 'mean_e_z']].values\n",
    "# tracklets"
   ]
  },
  {
   "cell_type": "code",
   "execution_count": null,
   "metadata": {},
   "outputs": [],
   "source": [
    "tracklets"
   ]
  },
  {
   "cell_type": "code",
   "execution_count": null,
   "metadata": {},
   "outputs": [],
   "source": [
    "pairs_idx = np.array([[i,i] for i in range(pairs.shape[1])]).T.flatten()\n",
    "# pairs_idx = np.array([[i,i] for i in range(pairs.shape[1])]).T.flatten()\n",
    "obs_idx = pairs.flatten()\n",
    "cluster_obs = pd.DataFrame({\n",
    "    'obs_id' : obs_idx,\n",
    "    'trk_idx' : pairs_idx,\n",
    "    'cluster': clusters.labels_[ pairs_idx ],\n",
    "    'obj_id' : dfObs.iloc[obs_idx]['ObjID'].values,\n",
    "    'obs_mjd' : dfObs.iloc[obs_idx]['FieldMJD'].values,\n",
    "})\n",
    "cluster_obs = cluster_obs[ cluster_obs['cluster'] != -1 ]\n",
    "cluster_obs"
   ]
  },
  {
   "cell_type": "code",
   "execution_count": null,
   "metadata": {},
   "outputs": [],
   "source": [
    "# deduplicate\n",
    "#\n",
    "for cluster_ird, group in cluster_obs.groupby( 'cluster' ):\n",
    "    print(group)"
   ]
  },
  {
   "cell_type": "code",
   "execution_count": null,
   "metadata": {},
   "outputs": [],
   "source": [
    "# groups = cluster_obs.groupby( 'obs_id' )\n",
    "# group = groups.get_group( 2924789 )\n",
    "# tracklets.iloc[ group['trk_idx'] ]\n",
    "# # groups.keys"
   ]
  },
  {
   "cell_type": "code",
   "execution_count": null,
   "metadata": {},
   "outputs": [],
   "source": [
    "# filtered_trcklets = []\n",
    "# groups = cluster_obs.groupby( 'obs_id' )\n",
    "# for obs, group in cluster_obs.groupby( 'obs_id' ) :\n",
    "#     # trks_in_group = tracklets.iloc[ group['trk_idx'] ]\n",
    "#     if len(group) > 1:\n",
    "#         print( obs )\n",
    "\n",
    "#     # best_trk = \n",
    "\n",
    "#     # print(trks_in_group)"
   ]
  },
  {
   "cell_type": "code",
   "execution_count": null,
   "metadata": {},
   "outputs": [],
   "source": [
    "tracklets = pd.DataFrame({\n",
    "    'observation_1'   : pairs[0],\n",
    "    'observation_1_id': dfObs.iloc[ pairs[0] ]['ObjID'].values,\n",
    "    'mjd_1'           : dfObs.iloc[ pairs[0] ]['FieldMJD'].values,\n",
    "    'observation_2'   : pairs[1],\n",
    "    'observation_2_id': dfObs.iloc[ pairs[1] ]['ObjID'].values,\n",
    "    'mjd_2'           : dfObs.iloc[ pairs[1] ]['FieldMJD'].values,\n",
    "    'l_x'             : L_arrows[0],\n",
    "    'l_y'             : L_arrows[1],\n",
    "    'l_z'             : L_arrows[2],\n",
    "    'e_x'             : A_arrows[0]/cn.GM,\n",
    "    'e_y'             : A_arrows[1]/cn.GM,\n",
    "    'e_z'             : A_arrows[2]/cn.GM,\n",
    "    'cluster'         : clusters.labels_\n",
    "})\n",
    "# tracklets = tracklets[ tracklets['cluster'] != -1 ]\n",
    "tracklets"
   ]
  },
  {
   "cell_type": "code",
   "execution_count": null,
   "metadata": {},
   "outputs": [],
   "source": [
    "# # remove tracklets which share observations if they result in seperate clusters\n",
    "# # leaving the one with the best cluster match\n",
    "# filtered_tracklets = []\n",
    "# for obs_1, group in tracklets.groupby( 'observation_1_id' ):\n",
    "#     # identify best tracklet"
   ]
  },
  {
   "cell_type": "code",
   "execution_count": null,
   "metadata": {},
   "outputs": [],
   "source": [
    "for cluster_label, cluster in tracklets.groupby( 'cluster' ):\n",
    "    # print( cluster['l_x'] \n",
    "    l_mean = np.mean( cluster[['l_x', 'l_y', 'l_z']], axis=0 )\n",
    "    l_std = np.std( cluster[['l_x', 'l_y', 'l_z']], axis=0 )\n",
    "    l_std_norm = np.linalg.norm(l_std)\n",
    "    n = len( np.unique( cluster[['observation_1_id', 'observation_2_id']].values.flatten() ) )\n",
    "    if l_std_norm < 3*clust_rad:\n",
    "        print( l_std, l_std_norm, n )"
   ]
  },
  {
   "cell_type": "code",
   "execution_count": null,
   "metadata": {},
   "outputs": [],
   "source": []
  }
 ],
 "metadata": {
  "kernelspec": {
   "display_name": "heliolinc3d",
   "language": "python",
   "name": "python3"
  },
  "language_info": {
   "codemirror_mode": {
    "name": "ipython",
    "version": 3
   },
   "file_extension": ".py",
   "mimetype": "text/x-python",
   "name": "python",
   "nbconvert_exporter": "python",
   "pygments_lexer": "ipython3",
   "version": "3.12.2"
  }
 },
 "nbformat": 4,
 "nbformat_minor": 2
}
