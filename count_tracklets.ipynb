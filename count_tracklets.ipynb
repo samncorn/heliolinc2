{
 "cells": [
  {
   "cell_type": "code",
   "execution_count": 1,
   "metadata": {},
   "outputs": [],
   "source": [
    "import pandas as pd\n",
    "import numpy as np\n",
    "\n",
    "import scipy.spatial as sc\n",
    "\n",
    "from heliolinc3d.transforms import radec2icrfu\n",
    "from heliolinc3d.vector import sphere_line_intercept"
   ]
  },
  {
   "cell_type": "code",
   "execution_count": 2,
   "metadata": {},
   "outputs": [],
   "source": [
    "max_ang_rate = 2*np.pi/180 # deg/day => rad/day \n",
    "dt_trk = 2/24 # days"
   ]
  },
  {
   "cell_type": "code",
   "execution_count": 3,
   "metadata": {},
   "outputs": [
    {
     "data": {
      "text/html": [
       "<div>\n",
       "<style scoped>\n",
       "    .dataframe tbody tr th:only-of-type {\n",
       "        vertical-align: middle;\n",
       "    }\n",
       "\n",
       "    .dataframe tbody tr th {\n",
       "        vertical-align: top;\n",
       "    }\n",
       "\n",
       "    .dataframe thead th {\n",
       "        text-align: right;\n",
       "    }\n",
       "</style>\n",
       "<table border=\"1\" class=\"dataframe\">\n",
       "  <thead>\n",
       "    <tr style=\"text-align: right;\">\n",
       "      <th></th>\n",
       "      <th>ObjID</th>\n",
       "      <th>FieldID</th>\n",
       "      <th>FieldMJD</th>\n",
       "      <th>AstRA(deg)</th>\n",
       "      <th>AstDec(deg)</th>\n",
       "      <th>observedTrailedSourceMag</th>\n",
       "      <th>optFilter</th>\n",
       "    </tr>\n",
       "  </thead>\n",
       "  <tbody>\n",
       "    <tr>\n",
       "      <th>0</th>\n",
       "      <td>G003061</td>\n",
       "      <td>24</td>\n",
       "      <td>60796.012430</td>\n",
       "      <td>210.812507</td>\n",
       "      <td>-73.626046</td>\n",
       "      <td>22.920000</td>\n",
       "      <td>r</td>\n",
       "    </tr>\n",
       "    <tr>\n",
       "      <th>1</th>\n",
       "      <td>G003061</td>\n",
       "      <td>74</td>\n",
       "      <td>60796.036890</td>\n",
       "      <td>210.781540</td>\n",
       "      <td>-73.625285</td>\n",
       "      <td>23.479000</td>\n",
       "      <td>g</td>\n",
       "    </tr>\n",
       "    <tr>\n",
       "      <th>2</th>\n",
       "      <td>G004759</td>\n",
       "      <td>201</td>\n",
       "      <td>60796.096430</td>\n",
       "      <td>169.145905</td>\n",
       "      <td>-7.835319</td>\n",
       "      <td>22.064000</td>\n",
       "      <td>u</td>\n",
       "    </tr>\n",
       "    <tr>\n",
       "      <th>3</th>\n",
       "      <td>G004759</td>\n",
       "      <td>251</td>\n",
       "      <td>60796.119540</td>\n",
       "      <td>169.149066</td>\n",
       "      <td>-7.826511</td>\n",
       "      <td>20.579000</td>\n",
       "      <td>g</td>\n",
       "    </tr>\n",
       "    <tr>\n",
       "      <th>4</th>\n",
       "      <td>G002012</td>\n",
       "      <td>252</td>\n",
       "      <td>60796.119990</td>\n",
       "      <td>168.356483</td>\n",
       "      <td>-10.641907</td>\n",
       "      <td>24.105000</td>\n",
       "      <td>g</td>\n",
       "    </tr>\n",
       "    <tr>\n",
       "      <th>...</th>\n",
       "      <td>...</td>\n",
       "      <td>...</td>\n",
       "      <td>...</td>\n",
       "      <td>...</td>\n",
       "      <td>...</td>\n",
       "      <td>...</td>\n",
       "      <td>...</td>\n",
       "    </tr>\n",
       "    <tr>\n",
       "      <th>75436697</th>\n",
       "      <td>FD</td>\n",
       "      <td>13322</td>\n",
       "      <td>60809.189866</td>\n",
       "      <td>211.240334</td>\n",
       "      <td>5.396827</td>\n",
       "      <td>21.978476</td>\n",
       "      <td>y</td>\n",
       "    </tr>\n",
       "    <tr>\n",
       "      <th>75436698</th>\n",
       "      <td>FD</td>\n",
       "      <td>13326</td>\n",
       "      <td>60809.191656</td>\n",
       "      <td>208.028307</td>\n",
       "      <td>1.853176</td>\n",
       "      <td>21.986338</td>\n",
       "      <td>y</td>\n",
       "    </tr>\n",
       "    <tr>\n",
       "      <th>75436699</th>\n",
       "      <td>FD</td>\n",
       "      <td>13327</td>\n",
       "      <td>60809.192103</td>\n",
       "      <td>205.067293</td>\n",
       "      <td>0.744405</td>\n",
       "      <td>21.985518</td>\n",
       "      <td>y</td>\n",
       "    </tr>\n",
       "    <tr>\n",
       "      <th>75436700</th>\n",
       "      <td>FD</td>\n",
       "      <td>13327</td>\n",
       "      <td>60809.192103</td>\n",
       "      <td>205.242496</td>\n",
       "      <td>0.569601</td>\n",
       "      <td>21.998561</td>\n",
       "      <td>y</td>\n",
       "    </tr>\n",
       "    <tr>\n",
       "      <th>75436701</th>\n",
       "      <td>FD</td>\n",
       "      <td>13328</td>\n",
       "      <td>60809.192549</td>\n",
       "      <td>204.849970</td>\n",
       "      <td>-2.151806</td>\n",
       "      <td>22.071175</td>\n",
       "      <td>y</td>\n",
       "    </tr>\n",
       "  </tbody>\n",
       "</table>\n",
       "<p>75436702 rows × 7 columns</p>\n",
       "</div>"
      ],
      "text/plain": [
       "            ObjID  FieldID      FieldMJD  AstRA(deg)  AstDec(deg)  \\\n",
       "0         G003061       24  60796.012430  210.812507   -73.626046   \n",
       "1         G003061       74  60796.036890  210.781540   -73.625285   \n",
       "2         G004759      201  60796.096430  169.145905    -7.835319   \n",
       "3         G004759      251  60796.119540  169.149066    -7.826511   \n",
       "4         G002012      252  60796.119990  168.356483   -10.641907   \n",
       "...           ...      ...           ...         ...          ...   \n",
       "75436697       FD    13322  60809.189866  211.240334     5.396827   \n",
       "75436698       FD    13326  60809.191656  208.028307     1.853176   \n",
       "75436699       FD    13327  60809.192103  205.067293     0.744405   \n",
       "75436700       FD    13327  60809.192103  205.242496     0.569601   \n",
       "75436701       FD    13328  60809.192549  204.849970    -2.151806   \n",
       "\n",
       "          observedTrailedSourceMag optFilter  \n",
       "0                        22.920000         r  \n",
       "1                        23.479000         g  \n",
       "2                        22.064000         u  \n",
       "3                        20.579000         g  \n",
       "4                        24.105000         g  \n",
       "...                            ...       ...  \n",
       "75436697                 21.978476         y  \n",
       "75436698                 21.986338         y  \n",
       "75436699                 21.985518         y  \n",
       "75436700                 21.998561         y  \n",
       "75436701                 22.071175         y  \n",
       "\n",
       "[75436702 rows x 7 columns]"
      ]
     },
     "execution_count": 3,
     "metadata": {},
     "output_type": "execute_result"
    }
   ],
   "source": [
    "# load dataset\n",
    "dfObs = pd.read_parquet( '../neo_mba_noise_v3.3_1month.parquet', filters=[('FieldMJD_TAI', '<=', 60810.0)])\n",
    "dfObs.rename( \n",
    "    columns = {\n",
    "        'FieldMJD_TAI' : 'FieldMJD',\n",
    "        'index' : 'obsName' \n",
    "    }, \n",
    "    inplace=True )\n",
    "dfObs"
   ]
  },
  {
   "cell_type": "code",
   "execution_count": 4,
   "metadata": {},
   "outputs": [],
   "source": [
    "los = np.zeros( (len(dfObs), 4) )\n",
    "los[:, 0:3] = radec2icrfu( \n",
    "    dfObs['AstRA(deg)'],\n",
    "    dfObs['AstDec(deg)']\n",
    " ).T\n",
    "\n",
    "# los[:, 0:3] = sphere_line_intercept( los[:, 0:3].T,  )\n",
    "\n",
    "los[:, 3] = dfObs['FieldMJD'] * max_ang_rate"
   ]
  },
  {
   "cell_type": "code",
   "execution_count": 5,
   "metadata": {},
   "outputs": [],
   "source": [
    "tree = sc.KDTree( los, leafsize=16 )"
   ]
  },
  {
   "cell_type": "code",
   "execution_count": 7,
   "metadata": {},
   "outputs": [
    {
     "ename": "",
     "evalue": "",
     "output_type": "error",
     "traceback": [
      "\u001b[1;31mThe Kernel crashed while executing code in the current cell or a previous cell. \n",
      "\u001b[1;31mPlease review the code in the cell(s) to identify a possible cause of the failure. \n",
      "\u001b[1;31mClick <a href='https://aka.ms/vscodeJupyterKernelCrash'>here</a> for more info. \n",
      "\u001b[1;31mView Jupyter <a href='command:jupyter.viewOutput'>log</a> for further details."
     ]
    }
   ],
   "source": [
    "sky_angle_search = max_ang_rate * dt_trk\n",
    "pairs = tree.query_pairs( sky_angle_search, p=np.inf, eps=0.0, output_type='ndarray' )\n",
    "n_pairs = len(pairs)"
   ]
  },
  {
   "cell_type": "code",
   "execution_count": null,
   "metadata": {},
   "outputs": [],
   "source": [
    "n_pairs"
   ]
  },
  {
   "cell_type": "code",
   "execution_count": null,
   "metadata": {},
   "outputs": [],
   "source": [
    "n_trks = 0.5*(n_pairs - len( dfObs ))\n",
    "n_trks"
   ]
  },
  {
   "cell_type": "code",
   "execution_count": null,
   "metadata": {},
   "outputs": [],
   "source": [
    "n_trks, n_trks / len( dfObs ), n_trks * 16 * 1e-9"
   ]
  },
  {
   "cell_type": "code",
   "execution_count": null,
   "metadata": {},
   "outputs": [],
   "source": [
    "# tracklets in ra dec\n",
    "\n",
    "# 75 average tracklets per obervations for 2 deg/day ( ~5 min )\n",
    "# 1735 average tracklets per obervations for 10 deg/day ( ~35 min count time )"
   ]
  },
  {
   "cell_type": "code",
   "execution_count": null,
   "metadata": {},
   "outputs": [],
   "source": [
    "# tracklets projected onto hypothesis\n",
    "\n",
    "#"
   ]
  },
  {
   "cell_type": "code",
   "execution_count": null,
   "metadata": {},
   "outputs": [],
   "source": [
    "# roughly 3800 observations per square degree in a two week window"
   ]
  },
  {
   "cell_type": "code",
   "execution_count": null,
   "metadata": {},
   "outputs": [],
   "source": []
  },
  {
   "cell_type": "code",
   "execution_count": null,
   "metadata": {},
   "outputs": [],
   "source": []
  }
 ],
 "metadata": {
  "kernelspec": {
   "display_name": "heliolinc3d",
   "language": "python",
   "name": "python3"
  },
  "language_info": {
   "codemirror_mode": {
    "name": "ipython",
    "version": 3
   },
   "file_extension": ".py",
   "mimetype": "text/x-python",
   "name": "python",
   "nbconvert_exporter": "python",
   "pygments_lexer": "ipython3",
   "version": "3.12.2"
  }
 },
 "nbformat": 4,
 "nbformat_minor": 2
}
